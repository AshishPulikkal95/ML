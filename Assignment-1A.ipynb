{
 "cells": [
  {
   "cell_type": "markdown",
   "metadata": {},
   "source": [
    "<h2>Homework 1: Linear Regression on Boston Housing Data</h2>\n",
    "\n",
    "You're asked to do the following tasks to predict boston house price:\n",
    "<lu>\n",
    "<li>Use scikit-learn</li>\n",
    "<li>Implement analytical solution (normal equation) to obtain weights</li>\n",
    "<li>Implement numerical solution (gradient descent) to obtain weights</li>\n",
    "</lu>\n",
    "    Note: the accuracy of your implementations should be close to that of a linear model from scikit-learn\n",
    "\n",
    "In addition, you need to show the resulting intercept and coefficents, calculate errors on training dataset and testing dataset, and plot a figure to show your predictions and real prices on the testing dataset. "
   ]
  },
  {
   "cell_type": "code",
   "execution_count": 11,
   "metadata": {},
   "outputs": [],
   "source": [
    "# The modules we're going to use\n",
    "from __future__ import print_function\n",
    "from sklearn import preprocessing\n",
    "from sklearn.model_selection import train_test_split\n",
    "from sklearn import datasets, linear_model\n",
    "from sklearn.linear_model import LinearRegression \n",
    "from scipy import linalg\n",
    "import numpy as np\n",
    "import pandas as pd\n",
    "import matplotlib.pyplot as plt\n",
    "\n",
    "# When you execute a code to plot with a simple SHIFT-ENTER, the plot will be shown directly under the code cell\n",
    "%matplotlib inline"
   ]
  },
  {
   "cell_type": "code",
   "execution_count": 12,
   "metadata": {},
   "outputs": [],
   "source": [
    "# Load data from scikit-learn, which returns (data, target)\n",
    "# note: if you call \"boston = load_boston()\", it returns a dictionary-like object\n",
    "data, target = datasets.load_boston(True)\n",
    "\n",
    "# Split the data into two parts: training data and testing data\n",
    "train_data,test_data,train_target,test_target = train_test_split(data,(target[:, np.newaxis]), test_size=0.2, random_state=42)"
   ]
  },
  {
   "cell_type": "markdown",
   "metadata": {},
   "source": [
    "<h4>Use scikit-learn library in the following cell</h4>"
   ]
  },
  {
   "cell_type": "code",
   "execution_count": 17,
   "metadata": {},
   "outputs": [
    {
     "name": "stdout",
     "output_type": "stream",
     "text": [
      "Intercept:  [22.79653465]\n",
      "-------------------------------------------\n",
      "Coefficients:  [[-0.996232    0.69558769  0.28047684  0.71933958 -2.02678678  3.14074199\n",
      "  -0.17447147 -3.08322662  2.24869616 -1.76573775 -2.03984933  1.13874218\n",
      "  -3.61718128]]\n",
      "-------------------------------------------\n",
      "Training dataset error = 10.8208\n",
      "Testing dataset error = 12.1557\n"
     ]
    },
    {
     "data": {
      "image/png": "[encoded data removed]",
      "text/plain": [
       "<Figure size 432x288 with 1 Axes>"
      ]
     },
     "metadata": {},
     "output_type": "display_data"
    }
   ],
   "source": [
    "# Task 1-1: use linear regression in sklearn\n",
    "#creating linear regression instance\n",
    "regression = LinearRegression()\n",
    "#fitting linear model\n",
    "regression.fit(train_data, train_target)\n",
    "\n",
    "\n",
    "# Task 1-2: show intercept and coefficents using built-in function intercept_ and coef_\n",
    "print ('Intercept: ', regression.intercept_)\n",
    "print('-------------------------------------------')\n",
    "print ('Coefficients: ', regression.coef_)\n",
    "print('-------------------------------------------')\n",
    "\n",
    "# Task 1-3: show errors on training dataset and testing dataset\n",
    "\n",
    "#getting prediction for training dataset for calculating error.\n",
    "predictTrain = regression.predict(train_data)\n",
    "#getting prediction for testing dataset for calculating error.\n",
    "predictTest = regression.predict(test_data)\n",
    "\n",
    "#getting prediction for training dataset for caluculating error.\n",
    "trainingdataseterror = np.mean((train_target - predictTrain) ** 2)/2\n",
    "testingdataseterror = np.mean((test_target - predictTest) ** 2)/2\n",
    "\n",
    "#Printing the training and testing dataset errors upto 4 decimal places\n",
    "print('Training dataset error ='+' '+\"%.4f\" %trainingdataseterror)\n",
    "print('Testing dataset error ='+' '+\"%.4f\" %testingdataseterror)\n",
    "\n",
    "# Task 1-4: show plot a figure to show your predictions and real prices on the testing dataset\n",
    "plt.scatter(test_target, predictTest, s=50) # plot graph with target as X-axis and predict value as Y-axis.\n",
    "plt.xlabel(\"Target\", size='15') # x-axis title\n",
    "plt.ylabel(\"Prediction\", size='15') # y-axis title\n",
    "plt.show() #displaying the graph\n",
    "\n"
   ]
  },
  {
   "cell_type": "markdown",
   "metadata": {},
   "source": [
    "<h4>Use analytical solution (normal equation) to perform linear regression in the following cell</h4>"
   ]
  },
  {
   "cell_type": "code",
   "execution_count": 18,
   "metadata": {},
   "outputs": [
    {
     "name": "stdout",
     "output_type": "stream",
     "text": [
      "Intercept:  [22.79653465]\n",
      "-------------------------------------------\n",
      "Coefficients:  [[-0.996232  ]\n",
      " [ 0.69558769]\n",
      " [ 0.28047684]\n",
      " [ 0.71933958]\n",
      " [-2.02678678]\n",
      " [ 3.14074199]\n",
      " [-0.17447147]\n",
      " [-3.08322662]\n",
      " [ 2.24869616]\n",
      " [-1.76573775]\n",
      " [-2.03984933]\n",
      " [ 1.13874218]\n",
      " [-3.61718128]]\n",
      "-------------------------------------------\n",
      "Training dataset error = 10.8208\n",
      "Testing dataset error = 12.1557\n"
     ]
    },
    {
     "data": {
      "image/png": "[encoded data removed]",
      "text/plain": [
       "<Figure size 432x288 with 1 Axes>"
      ]
     },
     "metadata": {},
     "output_type": "display_data"
    }
   ],
   "source": [
    "# Task 2-1: Implement a function solving normal equation \n",
    "# Inputs: Training data and  training label\n",
    "# Output: Weights\n",
    "def myNormalEqualFun(X,y):\n",
    "    Z = X.transpose().dot(X) #getting the value of transposed X multiplied by X\n",
    "    Y = np.linalg.inv(Z) #getting the inversed version value of earlier step\n",
    "    Q = Y.dot(X.transpose()) #multiplying the result of previous step by transposed X\n",
    "    normalEq = Q.dot(y) #getting the final value by multiplying with y\n",
    "    return normalEq\n",
    "    \n",
    "# Task 2-2: Implement a function performing prediction\n",
    "# Inputs: Testing data and weights\n",
    "# Output: Predictions\n",
    "def myPredictFun(X,w):#Function defined for predicting given training or testdata and weights generated by normal equation\n",
    "    return X.dot(w) #dot product of X by a vector of weights\n",
    "\n",
    "# Here we insert a column of 1s into training_data and test_data (to be consistent with our lecture slides)\n",
    "train_data_intercept = np.insert(train_data, 0, 1, axis=1)\n",
    "test_data_intercept = np.insert(test_data, 0, 1, axis=1)\n",
    "\n",
    "\n",
    "# Here we call myNormalEqual to train the model and get weights\n",
    "# Weight values returned by normal equation function saved in w\n",
    "w = myNormalEqualFun(train_data_intercept,train_target) \n",
    "\n",
    "\n",
    "#getting predictions for test dataset and train dataset\n",
    "predTest = myPredictFun(test_data_intercept, w) \n",
    "predTrain = myPredictFun(train_data_intercept, w) \n",
    "\n",
    "# Task 2-3: generating intercept and coefficents\n",
    "print ('Intercept: ', w[0]) #Print the generated intercept value\n",
    "print('-------------------------------------------')\n",
    "print ('Coefficients: ', w[1:14]) #Print the generated coefficient values\n",
    "print('-------------------------------------------')\n",
    "\n",
    "# Task 2-4: show errors on training dataset and testing dataset\n",
    "trainingDatasetError = np.mean((train_target - predTrain) ** 2)/2\n",
    "testingDatasetError = np.mean((test_target - predTest) ** 2)/2\n",
    "\n",
    "#Printing the training and testing dataset errors upto 4 decimal places\n",
    "print('Training dataset error ='+' '+\"%.4f\" %trainingDatasetError)\n",
    "print('Testing dataset error ='+' '+\"%.4f\" %testingDatasetError)\n",
    "\n",
    "# Task 2-5: show plot a figure to show your predictions and real prices on the testing dataset\n",
    "plt.scatter(test_target, predTest,  s=50, color = 'red')\n",
    "plt.xlabel(\"Target\", size='15')\n",
    "plt.ylabel(\"Prediction\", size='15')\n",
    "plt.show()"
   ]
  },
  {
   "cell_type": "markdown",
   "metadata": {},
   "source": [
    "<h4>Use numerical solution (gradient descent) to perform linear regression in the following cell</h4>"
   ]
  },
  {
   "cell_type": "code",
   "execution_count": 22,
   "metadata": {},
   "outputs": [
    {
     "name": "stdout",
     "output_type": "stream",
     "text": [
      "Intercept:  [22.7955505]\n",
      "-------------------------------------------\n",
      "Coefficients:  [[-0.86381796]\n",
      " [ 0.41720781]\n",
      " [-0.0676055 ]\n",
      " [ 0.76296887]\n",
      " [-1.59163816]\n",
      " [ 3.31151516]\n",
      " [-0.20578004]\n",
      " [-2.65884215]\n",
      " [ 1.18064817]\n",
      " [-0.7170903 ]\n",
      " [-1.93745362]\n",
      " [ 1.14767234]\n",
      " [-3.56316846]]\n",
      "-------------------------------------------\n",
      "Training dataset error = 10.9303\n",
      "Testing dataset error = 12.6838\n"
     ]
    },
    {
     "data": {
      "image/png": "[encoded data removed]",
      "text/plain": [
       "<Figure size 432x288 with 1 Axes>"
      ]
     },
     "metadata": {},
     "output_type": "display_data"
    }
   ],
   "source": [
    "scaler = preprocessing.StandardScaler().fit(train_data)\n",
    "train_data = scaler.transform(train_data)\n",
    "test_data = scaler.transform(test_data)\n",
    "\n",
    "\n",
    "# Task 3-1: Implement a function performing gradient descent\n",
    "# Inputs: Training data, training label, leaerning rate, number of iterations\n",
    "# Output: Weights\n",
    "def myGradientDescentFun(X,y,learning_rate,numItrs):\n",
    "    w = np.zeros((X.shape[1], 1)) #Intialize an array with coloumns as 1 and X.shape[1] as row.\n",
    "    for i in range(numItrs): #For loop for with the range 0 to numItrs and calculating cost function and store it in W.\n",
    "        costFunction = np.divide(X.transpose().dot(np.subtract(y, np.dot(X, w))), X.shape[0])\n",
    "        w = w + (learning_rate * costFunction)\n",
    "    return w\n",
    "\n",
    "# Task 3-2: Implement a function performing prediction\n",
    "# Inputs: Testing data and weights\n",
    "# Output: Predictions\n",
    "def myPredictFun(X,w):\n",
    "    return X.dot(w) # Dot product of X by its vector of weights.\n",
    "\n",
    "# Here we insert a column of 1s into training_data and test_data (to be consistent with our lecture slides)\n",
    "train_data_intercept = np.insert(train_data, 0, 1, axis=1)  #(arr,obj,values,axis)\n",
    "test_data_intercept = np.insert(test_data, 0, 1, axis=1)\n",
    "\n",
    "# Here we call myGradientDescentFun to train the model and get weights\n",
    "# Note: Learning rate = 0.01 and iteration = 1000\n",
    "\n",
    "w = myGradientDescentFun(train_data_intercept,train_target,0.01,1000)\n",
    "\n",
    "#getting predictions for test dataset and train dataset\n",
    "prediction_test = myPredictFun(test_data_intercept, w) \n",
    "prediction_train = myPredictFun(train_data_intercept, w) \n",
    "\n",
    "# Task 3-3: generating intercept and coefficents\n",
    "print ('Intercept: ', w[0])\n",
    "print('-------------------------------------------')\n",
    "print ('Coefficients: ',w[1:14])\n",
    "print('-------------------------------------------')\n",
    "\n",
    "# Task 3-4: show errors on training dataset and testing dataset\n",
    "Training_dataset_error = np.mean((train_target - prediction_train) ** 2)/2\n",
    "Testing_dataset_error = np.mean((test_target - prediction_test) ** 2)/2\n",
    "\n",
    "#Printing the training and testing dataset errors upto 4 decimal places\n",
    "print('Training dataset error ='+' '+\"%.4f\" %Training_dataset_error)\n",
    "print('Testing dataset error ='+' '+\"%.4f\" %Testing_dataset_error)\n",
    "\n",
    "# Task 3-5: show plot a figure to show your predictions and real prices on the testing dataset\n",
    "plt.scatter(test_target, prediction_test, s=50, color='green')\n",
    "plt.xlabel(\"Target\", size='15')\n",
    "plt.ylabel(\"Prediction\", size='15')\n",
    "plt.show()"
   ]
  },
  {
   "cell_type": "code",
   "execution_count": null,
   "metadata": {},
   "outputs": [],
   "source": []
  },
  {
   "cell_type": "code",
   "execution_count": null,
   "metadata": {},
   "outputs": [],
   "source": []
  }
 ],
 "metadata": {
  "kernelspec": {
   "display_name": "Python 3",
   "language": "python",
   "name": "python3"
  },
  "language_info": {
   "codemirror_mode": {
    "name": "ipython",
    "version": 3
   },
   "file_extension": ".py",
   "mimetype": "text/x-python",
   "name": "python",
   "nbconvert_exporter": "python",
   "pygments_lexer": "ipython3",
   "version": "3.6.4"
  }
 },
 "nbformat": 4,
 "nbformat_minor": 2
}
