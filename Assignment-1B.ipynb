{
 "cells": [
  {
   "cell_type": "code",
   "execution_count": 2,
   "metadata": {},
   "outputs": [],
   "source": [
    "from __future__ import print_function\n",
    "from sklearn import preprocessing\n",
    "from sklearn.model_selection import train_test_split\n",
    "from sklearn import datasets, linear_model\n",
    "import pandas as pd\n",
    "import numpy as np\n",
    "import matplotlib.pyplot as plt\n",
    "%matplotlib inline"
   ]
  },
  {
   "cell_type": "code",
   "execution_count": 4,
   "metadata": {
    "scrolled": false
   },
   "outputs": [
    {
     "name": "stdout",
     "output_type": "stream",
     "text": [
      "Intercept:  [10.66472055]\n",
      "-------------------------------------------\n",
      "Coefficients:  [[-4.73419107e-05 -6.33733882e-04  1.78407742e-03  7.74813774e-01\n",
      "  -1.78203654e-02 -3.37808450e-03 -1.07964294e-03  5.44459077e-03\n",
      "  -4.87651479e-03  7.55702887e-04  2.23860401e-01  7.37951960e-02]]\n",
      "-------------------------------------------\n",
      "Training dataset error = 0.5103\n",
      "Testing dataset error = 0.5048\n"
     ]
    },
    {
     "data": {
      "image/png": "[encoded data removed]",
      "text/plain": [
       "<Figure size 432x288 with 1 Axes>"
      ]
     },
     "metadata": {},
     "output_type": "display_data"
    }
   ],
   "source": [
    "dataSet= pd.read_csv('Dataset.csv')\n",
    "data = dataSet[['CO(GT)','PT08.S1(CO)','NMHC(GT)','C6H6(GT)', 'PT08.S2(NMHC)', 'NOx(GT)', 'PT08.S3(NOx)', 'NO2(GT)', 'PT08.S4(NO2)', 'PT08.S5(O3)','T','RH']]\n",
    "target= dataSet['AH']\n",
    "\n",
    "train_data,test_data,train_target,test_target = train_test_split(data,(target[:, np.newaxis]), test_size=0.20, random_state=50)\n",
    "\n",
    "Reg = linear_model.LinearRegression()\n",
    "\n",
    "Reg.fit(train_data, train_target)\n",
    "\n",
    "pred_train = Reg.predict(train_data)\n",
    "\n",
    "pred_test = Reg.predict(test_data)\n",
    "\n",
    "print ('Intercept: ', Reg.intercept_)\n",
    "print('-------------------------------------------')\n",
    "print ('Coefficients: ', Reg.coef_)\n",
    "print('-------------------------------------------')\n",
    "\n",
    "Trainingerror = np.mean((train_target - pred_train) ** 2)/2\n",
    "Testingerror = np.mean((test_target - pred_test) ** 2)/2\n",
    "\n",
    "print('Training dataset error ='+' '+\"%.4f\" %Trainingerror)\n",
    "print('Testing dataset error ='+' '+\"%.4f\" %Testingerror)\n",
    "\n",
    "plt.scatter(pred_test, test_target)\n",
    "plt.xlabel(\"Prediction\")\n",
    "plt.ylabel(\"Target\")\n",
    "plt.show()\n",
    "\n"
   ]
  },
  {
   "cell_type": "code",
   "execution_count": null,
   "metadata": {},
   "outputs": [],
   "source": [
    "\n",
    "\n"
   ]
  },
  {
   "cell_type": "code",
   "execution_count": null,
   "metadata": {},
   "outputs": [],
   "source": []
  }
 ],
 "metadata": {
  "kernelspec": {
   "display_name": "Python 3",
   "language": "python",
   "name": "python3"
  },
  "language_info": {
   "codemirror_mode": {
    "name": "ipython",
    "version": 3
   },
   "file_extension": ".py",
   "mimetype": "text/x-python",
   "name": "python",
   "nbconvert_exporter": "python",
   "pygments_lexer": "ipython3",
   "version": "3.6.4"
  }
 },
 "nbformat": 4,
 "nbformat_minor": 2
}
